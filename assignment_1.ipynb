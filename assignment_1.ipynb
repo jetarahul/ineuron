{
 "cells": [
  {
   "cell_type": "markdown",
   "id": "082a247e",
   "metadata": {},
   "source": [
    "1. In the below elements which of them are values or an expression? eg:- values can be integer or string and expressions will be mathematical operators.\n",
    "*   ---------------> expression\n",
    "'hello'------------->values\n",
    "-87.8----------------> values\n",
    "- -------------------> expression\n",
    "/ -------------------> expression\n",
    "\n",
    "6 --------------------> values\n",
    "\n",
    "2. What is the difference between string and variable?\n",
    "string is anything that is written in enclosed quotes.And it's actual data while Variable is a symbol that is used to store data.\n",
    "\n",
    "3. Describe three different data types.\n",
    "string\n",
    "complex\n",
    "int\n",
    "float\n",
    "4. What is an expression made up of? What do all expressions do?\n",
    "expressions are made up of string and mathematical operators. Exressions are used to evalute/provide some meaninghful result.\n",
    "\n",
    "5. This assignment statements, like spam = 10. What is the difference between an expression and a statement?\n",
    "statements denotes action like print statement etc. But epression is action which yields result.\n",
    "\n",
    "6. After running the following code, what does the variable bacon contain?\n",
    "bacon = 22\n",
    "bacon + 1\n",
    "23\n",
    "\n",
    "7. What should the values of the following two terms be?\n",
    "'spam' + 'spamspam' ---'spamspamspam'\n",
    "'spam' * 3------------'spamspamspam' i.e. spam three times.\n",
    "\n",
    "8. Why is eggs a valid variable name while 100 is invalid?\n",
    "Variable shouldn't start with numbers/integers.\n",
    "\n",
    "9. What three functions can be used to get the integer, floating-point number, or string version of a value?\n",
    "Let number be a=22\n",
    "int(a)\n",
    "float(a)\n",
    "str(a)\n",
    "10. Why does this expression cause an error? How can you fix it?\n",
    "'I have eaten ' + 99 + ' burritos.'\n",
    "we can't add string and integer together. this can be correctd as below:\n",
    "'I have eaten ' + '99' + ' burritos.'\n",
    "\n"
   ]
  },
  {
   "cell_type": "code",
   "execution_count": null,
   "id": "fa89f995",
   "metadata": {},
   "outputs": [],
   "source": []
  }
 ],
 "metadata": {
  "kernelspec": {
   "display_name": "Python 3",
   "language": "python",
   "name": "python3"
  },
  "language_info": {
   "codemirror_mode": {
    "name": "ipython",
    "version": 3
   },
   "file_extension": ".py",
   "mimetype": "text/x-python",
   "name": "python",
   "nbconvert_exporter": "python",
   "pygments_lexer": "ipython3",
   "version": "3.8.8"
  }
 },
 "nbformat": 4,
 "nbformat_minor": 5
}
